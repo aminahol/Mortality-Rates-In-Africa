{
 "cells": [
  {
   "cell_type": "markdown",
   "id": "ef470a39-7623-41c0-9a2b-6ecb6162ba6f",
   "metadata": {},
   "source": [
    "# **Analyzing African Mortality Rates In Africa through EDA and Machine Learning**"
   ]
  },
  {
   "cell_type": "markdown",
   "id": "51532013-90c1-422b-ad93-041a4fc26b45",
   "metadata": {},
   "source": [
    "# Introduction"
   ]
  },
  {
   "cell_type": "markdown",
   "id": "2a4751b9-0622-4fb2-9237-d0841034c4d2",
   "metadata": {},
   "source": [
    "Africa continues to face significant public health challenges, with mortality rates influenced by factors such as disease burden, healthcare access, and economic disparities. Understanding these patterns is essential for driving targeted interventions and effective policymaking.\n",
    "\n",
    "In this analysis, I will explore mortality rates across African countries using data on causes of death, age group distributions, population statistics, economic indicators, and access to healthcare. The goal is to uncover meaningful patterns and relationships that help explain variations in mortality rates across the continent.\n",
    "\n",
    "Additionally, I will apply machine learning techniques to cluster countries based on their mortality profiles, with the aim of identifying high-risk nations. This can inform strategic health interventions and guide policy recommendations to improve health outcomes and reduce preventable deaths in the region. "
   ]
  },
  {
   "cell_type": "markdown",
   "id": "815d3e0d-61b3-4f6d-a6ac-8e1adea0296e",
   "metadata": {},
   "source": [
    "## Importing libraries and Loading Datasets"
   ]
  },
  {
   "cell_type": "code",
   "execution_count": null,
   "id": "c619ed9c",
   "metadata": {},
   "outputs": [],
   "source": [
    "# Import necessary libraries\n",
    "import numpy as np\n",
    "import pandas as pd #for data manipulation\n",
    "import matplotlib.pyplot as plt\n",
    "import seaborn as sns\n",
    "import plotly.express as px #for interactive visualization\n",
    "from sklearn.cluster import KMeans\n",
    "\n",
    "\n",
    "\n",
    "\n",
    "# Define file paths for datasets (CSV or Excel)\n",
    "files = {\n",
    "    'MortalityCause': r\"C:\\Users\\CSC 2020\\Downloads\\1. annual-number-of-deaths-by-cause.csv\",\n",
    "    'MortalitybyAge': r\"C:\\Users\\CSC 2020\\Downloads\\2. number-of-deaths-by-age-group.csv\",\n",
    "    'Country': r\"C:\\Users\\CSC 2020\\Downloads\\4. ISO 3166_country-and-continent-codes-list-csv.csv\",\n",
    "    'Worldpop': r\"C:\\Users\\CSC 2020\\Downloads\\5. World Population.csv\",\n",
    "    'Medicals': r\"C:\\Users\\CSC 2020\\Downloads\\3. Medical Doctors Per 10000 population.xlsx\",\n",
    "    'GDP': r\"C:\\Users\\CSC 2020\\Downloads\\6. Current health expenditure (% of GDP).xlsx\"\n",
    "}\n",
    "\n",
    "# Create an empty dictionary to store the dataframes\n",
    "df = {}\n",
    "\n",
    "# Loop through the files dictionary, load each file, and store it in the df dictionary\n",
    "for name, path in files.items():\n",
    "    # Check if the file is a CSV or Excel and load accordingly\n",
    "    if path.endswith('.csv'):\n",
    "        df[name] = pd.read_csv(path)\n",
    "    elif path.endswith('.xlsx'):\n",
    "        df[name] = pd.read_excel(path)\n",
    "\n",
    "# print the dataframes to check that they loaded correctly\n",
    "for name, data in df.items():\n",
    "    print(f\"Loaded {name} with shape: {data.shape}\")\n",
    "\n",
    "        "
   ]
  },
  {
   "cell_type": "markdown",
   "id": "3a6f0522-e296-4571-9557-af230e921c5b",
   "metadata": {},
   "source": [
    "# Data Cleaning"
   ]
  },
  {
   "cell_type": "markdown",
   "id": "83b2859c-bc97-44b8-8dfa-5d84ff596ea1",
   "metadata": {},
   "source": [
    "### Mortality by Cause"
   ]
  },
  {
   "cell_type": "code",
   "execution_count": null,
   "id": "0343a081",
   "metadata": {},
   "outputs": [],
   "source": [
    "df1 = df['MortalityCause']\n",
    "df1.head() #preview of Mortality by causes dataframe"
   ]
  },
  {
   "cell_type": "code",
   "execution_count": null,
   "id": "6057eea0-2bb3-4ffc-a82f-ad8eb03d16b1",
   "metadata": {},
   "outputs": [],
   "source": [
    "# Select columns to transpose\n",
    "columns_to_transpose = df1.columns[3:37]\n",
    "\n",
    "# Melt the dataframe to transform these columns into rows\n",
    "melted_df1 = pd.melt(df1, id_vars=['Entity', 'Code', 'Year'], value_vars=columns_to_transpose, \n",
    "                    var_name='Cause', value_name='Value')\n",
    "#checking for duplicates\n",
    "melted_df1.duplicated().sum()  #no duplicate\n",
    "\n",
    "#summary statistics\n",
    "melted_df1.info() #incorrect data types of \"value\" column\n",
    "\n",
    "# converting 'Value' column to numeric numeric\n",
    "melted_df1['Value'] = pd.to_numeric(melted_df1['Value'], errors='coerce')\n",
    "\n",
    "#checking for nulls\n",
    "melted_df1.isnull().sum() #no null values\n",
    "\n",
    "print(melted_df1['Value'].dtype) #checking datatype\n",
    "\n",
    "melted_df1 = melted_df1.dropna(subset=['Value'])\n",
    "\n",
    "melted_df1 = melted_df1.rename(columns={'Entity': 'Country'}) #renaming columns for consistency\n",
    "null_code_rows = melted_df1[melted_df1['Code'].isnull()] # no null value\n",
    "Mortality_cause =melted_df1 "
   ]
  },
  {
   "cell_type": "code",
   "execution_count": null,
   "id": "3fe3f28b",
   "metadata": {},
   "outputs": [],
   "source": [
    "Mortality_cause.head() #Preview of cleaned data"
   ]
  },
  {
   "cell_type": "markdown",
   "id": "9f4aba9a-9326-4a8d-92d3-d4d490dce58f",
   "metadata": {},
   "source": [
    "### Mortality by Age Group"
   ]
  },
  {
   "cell_type": "code",
   "execution_count": null,
   "id": "aebac1ec",
   "metadata": {},
   "outputs": [],
   "source": [
    "df2 = df['MortalitybyAge']\n",
    "df2.head() #preview of Mortality by Age group dataframe"
   ]
  },
  {
   "cell_type": "code",
   "execution_count": null,
   "id": "3725cfaa",
   "metadata": {},
   "outputs": [],
   "source": [
    "#Transposing the Age columns into a single Column\n",
    "columns_to_transpose = df2.columns[3:8]\n",
    "\n",
    "melted_df2 = pd.melt(df2, id_vars=['Entity', 'Code', 'Year'], value_vars=columns_to_transpose, var_name='Age', value_name='Value')\n",
    "\n",
    "melted_df2 = melted_df2.rename(columns={'Entity' : 'Country'}) #renaming country column for uniformity\n",
    "\n",
    "#Checking for Duplicates \n",
    "melted_df2.duplicated().sum() #no duplicate\n",
    "\n",
    "#Checking for nulls\n",
    "melted_df2.isnull().sum() \n",
    "\n",
    "#checking for entity with null code\n",
    "null_code_rows = melted_df2[melted_df2['Code'].isnull()]\n",
    "\n",
    "#checking for Entities with null codes\n",
    "grouped_null_code = null_code_rows.groupby('Country').size().reset_index(name='Value')\n",
    "grouped_null_code.head() #no african country among null\n",
    "\n",
    "Mortality_age_group = melted_df2.dropna()\n",
    "Mortality_age_group.info()"
   ]
  },
  {
   "cell_type": "code",
   "execution_count": null,
   "id": "c97393d1-06d6-4b35-b1aa-8dc510d99fb1",
   "metadata": {},
   "outputs": [],
   "source": [
    "Mortality_age_group.head() #Preview of cleaned data"
   ]
  },
  {
   "cell_type": "markdown",
   "id": "15e8efa9-01d7-4481-9e0c-852aa34603dc",
   "metadata": {},
   "source": [
    "### Medical Doctors per 10000 "
   ]
  },
  {
   "cell_type": "code",
   "execution_count": null,
   "id": "d4ecfea7",
   "metadata": {},
   "outputs": [],
   "source": [
    "df3 = df['Medicals']\n",
    "df3.head() #Preview of Medical Doctors per 10000 dataframe"
   ]
  },
  {
   "cell_type": "code",
   "execution_count": null,
   "id": "cf66b4ee",
   "metadata": {},
   "outputs": [],
   "source": [
    "df3.columns = df3.iloc[1]  # Set the second row as the column names (header)\n",
    "\n",
    "df3 = df3.drop([0, 1]).reset_index(drop=True)  # Drop the first two rows\n",
    "\n",
    "df3.info() #checking for correct column datatype\n",
    "\n",
    "#Correcting to appropriate datatype\n",
    "df3[['FactValueNumeric', 'Value', 'Period']] = df3[['FactValueNumeric', 'Value', 'Period']].apply(pd.to_numeric, errors='coerce')\n",
    "\n",
    "Medical_doctors = df3\n",
    "\n",
    "Medical_doctors = Medical_doctors.rename(columns={'Location' : 'Country'}) #renaming column for uniformity\n",
    "\n",
    "Medical_doctors.duplicated().sum()\n",
    "\n",
    "Medical_doctors.head()"
   ]
  },
  {
   "cell_type": "markdown",
   "id": "1a14c919-a04e-4077-b5c0-7de43e7014c2",
   "metadata": {},
   "source": [
    "### Country Code"
   ]
  },
  {
   "cell_type": "code",
   "execution_count": null,
   "id": "769ac3a1-7299-4629-ae94-5283c8961436",
   "metadata": {},
   "outputs": [],
   "source": [
    "df4 = df['Country']\n",
    "df4.head() #Preview of Country data frame"
   ]
  },
  {
   "cell_type": "code",
   "execution_count": null,
   "id": "e1ea0917",
   "metadata": {},
   "outputs": [],
   "source": [
    "columns_to_drop = df4.columns[[3, 5]] #dropping redundant columns\n",
    "\n",
    "df4 = df4.drop(columns_to_drop, axis=1) #removing redundant columns\n",
    "\n",
    "# Renaming column for uniformity\n",
    "renamed_column = df4.rename(columns={'Three_Letter_Country_Code': 'Code'}, inplace=True)\n",
    "renamed_column = df4.rename(columns = {'Country_Name': 'Country'})\n",
    "\n",
    "# Extract the first word before the comma for uniformity\n",
    "renamed_column['Country'] = renamed_column['Country'].str.split(',').str[0]\n",
    "renamed_column.head() \n",
    "\n",
    "# Filter df4 to include only rows where 'Continent_Name' is 'Africa'\n",
    "df4_africa = renamed_column[renamed_column['Continent_Name'] == 'Africa']\n",
    "\n",
    "df4_africa.head()"
   ]
  },
  {
   "cell_type": "markdown",
   "id": "e091727d-af06-4038-b77b-2d4bb6a1b791",
   "metadata": {},
   "source": [
    "### World Population"
   ]
  },
  {
   "cell_type": "code",
   "execution_count": null,
   "id": "d7c76eb0",
   "metadata": {},
   "outputs": [],
   "source": [
    "df5 = df[ 'Worldpop'] #Preview of the World Population Dataset\n",
    "df5.head()"
   ]
  },
  {
   "cell_type": "code",
   "execution_count": null,
   "id": "915eee35",
   "metadata": {},
   "outputs": [],
   "source": [
    "World_Population = df5[(df5['Year'] >= 1990) & (df5['Year'] <= 2019)] #including only 'Year' between 1990 and 2019 inclusive\n",
    "\n",
    "World_Population = World_Population.rename(columns = {'Entity': 'Country'})\n",
    "\n",
    "World_Population.info()\n",
    "\n",
    "World_Population.duplicated().sum() #no duplicate\n",
    "\n",
    "World_Population.head()"
   ]
  },
  {
   "cell_type": "markdown",
   "id": "e78ddebc-6cf8-46ab-ba12-c7a27ea4601c",
   "metadata": {},
   "source": [
    "### Percentage of GDP"
   ]
  },
  {
   "cell_type": "code",
   "execution_count": null,
   "id": "0c6b875b",
   "metadata": {},
   "outputs": [],
   "source": [
    "df6 = df['GDP'] #Preview of GDP data\n",
    "df6.head()"
   ]
  },
  {
   "cell_type": "markdown",
   "id": "4813a9fa-1a3f-40a4-98cf-ef7dfb9c5521",
   "metadata": {},
   "source": [
    "# Analysis and Visualisation"
   ]
  },
  {
   "cell_type": "markdown",
   "id": "bf7a38e0-3055-4e75-b0bd-d89e712675e9",
   "metadata": {},
   "source": [
    "## Visualisation of Mortality Trend and Correlation Analysis"
   ]
  },
  {
   "cell_type": "code",
   "execution_count": null,
   "id": "c703bf9d",
   "metadata": {},
   "outputs": [],
   "source": [
    "#setting row 4 as the correct dataframe Header\n",
    "df6.columns = df6.iloc[3]\n",
    "\n",
    "#removing irrelevant rows\n",
    "df6 = df6.drop([0, 1, 2, 3]).reset_index(drop = True)\n",
    "\n",
    "# Use the 'melt' function to reshape the DataFrame from wide to long format.\n",
    "Percent_GDP = pd.melt(df6, id_vars= ['Country Name', 'Country Code', 'Indicator Name'], value_vars = df6.columns[3:25], var_name ='Years', value_name = 'Count')\n",
    "Percent_GDP.info()\n",
    "\n",
    "#renaming columns for consistency\n",
    "Percent_GDP = Percent_GDP.rename(columns={'Country Name' : 'Country'})\n",
    "Percent_GDP = Percent_GDP.rename(columns={'Country Code' : 'Code'})\n",
    "Percent_GDP = Percent_GDP.rename(columns={'Years' : 'Year'})\n",
    "Percent_GDP['Year'] = Percent_GDP['Year'].astype(int)\n",
    "\n",
    "Percent_GDP.duplicated().sum() #no duplicates\n",
    "\n",
    "Percent_GDP.head()"
   ]
  },
  {
   "cell_type": "markdown",
   "id": "5937635c-f28b-48dc-828e-86b000da62ef",
   "metadata": {},
   "source": [
    "### Trend of Mortality over the Years"
   ]
  },
  {
   "cell_type": "code",
   "execution_count": null,
   "id": "fe7843a1-0ffc-4f5f-b883-0c955a1f7d84",
   "metadata": {},
   "outputs": [],
   "source": [
    "# Filter 'mortality_cause' for African countries and merge with 'country' dataframe\n",
    "filtered_mortality = Mortality_cause[Mortality_cause['Code'].isin(df4_africa['Code'])]\n",
    "\n",
    "# Step 2: Aggregate the filtered data by 'Year', summing the 'Value' column\n",
    "total_mortality_africa = filtered_mortality.groupby('Year')['Value'].sum().reset_index()\n",
    "\n",
    "# Visualising mortality trend over time\n",
    "mortality_trend = px.line(total_mortality_africa, x='Year', y='Value', title='Total Mortality in African countries over the years', labels={'Value': 'Mortality Rate'})\n",
    "\n",
    "mortality_trend.show()"
   ]
  },
  {
   "cell_type": "markdown",
   "id": "310a7141-c866-4e1d-8f02-3555db5ae63f",
   "metadata": {},
   "source": [
    "The annual mortality trend shows a sharp increase in deaths in 1994, followed by a steady rise between 2003 and 2005, peaking at 9.3 million deaths."
   ]
  },
  {
   "cell_type": "markdown",
   "id": "8c1836c0-aad5-477d-9b5b-297fe9090b6f",
   "metadata": {},
   "source": [
    "### Populaton Vs Mortality"
   ]
  },
  {
   "cell_type": "code",
   "execution_count": null,
   "id": "dbbfc455-9b6a-47a1-a259-b94eca8c505e",
   "metadata": {},
   "outputs": [],
   "source": [
    "# Filter World_Population to include only African countries\n",
    "filtered_population = World_Population[World_Population['Code'].isin(df4_africa['Code'])]\n",
    "\n",
    "# Merge with mortality cause dataframe\n",
    "Population_mortality = pd.merge(filtered_mortality,filtered_population, on=['Code', 'Year'])\n",
    "\n",
    "# Group the data by 'Country' and 'Year' to consider both country and year for 'Value'\n",
    "aggregated_data = Population_mortality.groupby(['Year','Country_x']).agg({\n",
    "    'Value': 'sum',  # Sum the mortality values for each country and year\n",
    "    'Population (historical estimates)': 'sum',\n",
    "}).reset_index()\n",
    "\n",
    "aggregated_data.head()"
   ]
  },
  {
   "cell_type": "code",
   "execution_count": null,
   "id": "4f171940-e228-4f18-aefe-5d7d98473211",
   "metadata": {},
   "outputs": [],
   "source": [
    "population_vs_mortality = px.scatter(aggregated_data, x=  'Population (historical estimates)', y= 'Value', \n",
    "    color = 'Country_x', hover_data=['Year'],  \n",
    "    trendline=\"ols\",  # Apply OLS trendline\n",
    "    trendline_scope=\"overall\",  # Apply trendline across the entire dataset\n",
    "    labels={'Population (historical estimates)': 'Population', 'Value': 'Mortality'},\n",
    "    title = 'Population vs Mortality'\n",
    ")\n",
    "\n",
    "population_vs_mortality.show()"
   ]
  },
  {
   "cell_type": "markdown",
   "id": "c995064c-32a9-4f37-b5d7-7850188e3955",
   "metadata": {},
   "source": [
    "The visualization above reveals a strong correlation between mortality and population across all African countries, with an R² value of 0.87. Additionally, we observe an outlier in **Rwanda**, which aligns with the sharp increase in mortality observed in 1994.\n"
   ]
  },
  {
   "cell_type": "markdown",
   "id": "ff259824-7727-4515-9ec7-e45da54dd7b9",
   "metadata": {},
   "source": [
    "### Visualizing Outliers and Hidden Trends"
   ]
  },
  {
   "cell_type": "markdown",
   "id": "4de83058-06aa-49bc-801b-b1452c01f31f",
   "metadata": {},
   "source": [
    "The goal of this analysis is to identify countries with a negative correlation between population and mortality, highlighting the potential influence of other factors on mortality rates."
   ]
  },
  {
   "cell_type": "code",
   "execution_count": null,
   "id": "7219cde4-2bc2-4e72-9542-bd5ec6dc37e0",
   "metadata": {},
   "outputs": [],
   "source": [
    "# Calculating correlation for each country\n",
    "country_correlations = aggregated_data.groupby('Country_x').apply(\n",
    "    lambda g: g['Value'].corr(g['Population (historical estimates)']) if g['Value'].std() > 0 and g['Population (historical estimates)'].std() > 0 else None,\n",
    "    include_groups=False  # Exclude the grouping columns from the operation\n",
    ").reset_index(name='Corr_coef')\n",
    "\n",
    "# Categorizing correlation\n",
    "country_correlations['Correlation_Group'] = country_correlations['Corr_coef'].apply(\n",
    "    lambda x: 'Negative Correlation' if x < 0 else 'Positive Correlation' if x > 0 else 'No Correlation'\n",
    ")\n",
    "\n",
    "#Merging correlation values back to the original data\n",
    "merged_data = pd.merge(\n",
    "    aggregated_data, \n",
    "    country_correlations[['Country_x', 'Corr_coef', 'Correlation_Group']], \n",
    "    on='Country_x', \n",
    "    how='left'\n",
    ")\n",
    "\n",
    "# Select only the specific columns \n",
    "merged_data = merged_data[['Year', 'Country_x', 'Value', \n",
    "                           'Population (historical estimates)', \n",
    "                           'Corr_coef', \n",
    "                           'Correlation_Group']]\n",
    "\n",
    "# Now merged_data should have only the desired columns\n",
    "merged_data.head()"
   ]
  },
  {
   "cell_type": "code",
   "execution_count": null,
   "id": "796d3fca-d55f-4304-93a0-d1ce31863b84",
   "metadata": {},
   "outputs": [],
   "source": [
    "#Visualize the plot\n",
    "population_vs_mortality = px.scatter(\n",
    "  merged_data, \n",
    "    x='Population (historical estimates)', \n",
    "    y='Value', \n",
    "    color='Correlation_Group', \n",
    "    color_discrete_map={'Negative Correlation': 'red', 'Positive Correlation': 'blue', 'No Correlation': 'grey'},  \n",
    "    hover_data=['Year', 'Country_x', 'Corr_coef'],  # Add 'Correlation' to hover data\n",
    "    title='Population vs Mortality with Correlation Group'\n",
    ")\n",
    "\n",
    "population_vs_mortality.show()"
   ]
  },
  {
   "cell_type": "markdown",
   "id": "1eb6739a-a34a-4b16-9e08-adedb1f3ac19",
   "metadata": {},
   "source": [
    "From the visualization, we can observe countries that do not show a negative correlation between population and mortality, such as Ethiopia, which has an R² value of -0.9. Despite its high population, Ethiopia exhibits a low mortality rate. Other countries with similar patterns include Uganda, Tanzania, Rwanda, and Sudan. This observation highlights the importance of distinguishing correlation from causation—while population size may be correlated with mortality, other factors, such as healthcare access, infrastructure, and socioeconomic conditions, may be influencing mortality rates independently of population size."
   ]
  },
  {
   "cell_type": "markdown",
   "id": "5757c985-36d6-43ae-83a4-043a230c43df",
   "metadata": {},
   "source": [
    "## GDP Vs Mortality"
   ]
  },
  {
   "cell_type": "code",
   "execution_count": null,
   "id": "b2c47c19-5f1d-4c40-b303-ef36b5eaca25",
   "metadata": {},
   "outputs": [],
   "source": [
    "# Filter GDP data to include only African countries\n",
    "filtered_GDP = Percent_GDP[Percent_GDP['Code'].isin(df4_africa['Code'])]\n",
    "\n",
    "# Merge the two dataframes \n",
    "GDP_mortality = pd.merge(filtered_mortality,filtered_GDP, on=['Code', 'Year'])\n",
    "\n",
    "aggregated_data = GDP_mortality.groupby(['Year','Country_x']).agg({\n",
    "    'Value': 'sum',  # Sum the mortality values for each country and year\n",
    "    'Count': 'sum',\n",
    "}).reset_index()\n",
    "\n",
    "aggregated_data.head()  #visualizing the merged data"
   ]
  },
  {
   "cell_type": "code",
   "execution_count": null,
   "id": "712b709f-b0af-460a-b57b-f3d5f1d8c688",
   "metadata": {},
   "outputs": [],
   "source": [
    "GDP_vs_mortality = px.scatter(aggregated_data, x=  'Count', y= 'Value', \n",
    "    color = 'Country_x', hover_data=['Year'], \n",
    "    trendline=\"ols\",  # Apply OLS trendline\n",
    "    trendline_scope=\"overall\",  # Apply trendline across the entire dataset\n",
    "    labels={'Count': 'GDP', 'Value': 'Mortality'},\n",
    "    title = 'GDP vs Mortality'\n",
    ")\n",
    "\n",
    "GDP_vs_mortality.show()"
   ]
  },
  {
   "cell_type": "markdown",
   "id": "481effa4-8d7d-4a9a-8259-c18501404975",
   "metadata": {},
   "source": [
    "from the above visual we can observe that there is generally no correlation between GDP and mortality"
   ]
  },
  {
   "cell_type": "markdown",
   "id": "decb7776-2d13-4240-968c-7186fdb169c9",
   "metadata": {},
   "source": [
    "### Visualising Outliers"
   ]
  },
  {
   "cell_type": "code",
   "execution_count": null,
   "id": "6f0bdd39-368b-480d-9515-42e900674ece",
   "metadata": {},
   "outputs": [],
   "source": [
    "#Calculating correlation for each country (GDP vs Mortality)\n",
    "country_correlations = aggregated_data.groupby('Country_x').apply(\n",
    "    lambda g: g['Value'].corr(g['Count']) if g['Value'].std() > 0 and g['Count'].std() > 0 else None,\n",
    "    include_groups=False  # Exclude the grouping columns from the operation\n",
    ").reset_index(name='Correlation')\n",
    "\n",
    "#Categorizing correlation\n",
    "country_correlations['Correlation_Group'] = country_correlations['Correlation'].apply(\n",
    "    lambda x: 'Negative Correlation' if x < 0 else 'Positive Correlation' if x > 0 else 'No Correlation'\n",
    ")\n",
    "\n",
    "# Renaming columns for uniformity\n",
    "country_correlations = country_correlations.rename(columns={'Correlation_Group': 'Correlation_Group_from_correlations'})\n",
    "\n",
    "#Merging correlation values back to the original data\n",
    "aggregated_data = pd.merge(aggregated_data, \n",
    "                           country_correlations[['Country_x', 'Correlation', 'Correlation_Group_from_correlations']], \n",
    "                           on='Country_x', how='left', \n",
    "                           suffixes=('', '_from_correlations'))\n",
    "\n",
    "# Plot GDP vs Mortality with Correlation Group and Correlation Coefficient in tooltip\n",
    "GDP_vs_mortality = px.scatter(\n",
    "    aggregated_data, \n",
    "    x='Count',  # GDP (as represented by 'Count')\n",
    "    y='Value',  # Mortality\n",
    "    color='Correlation_Group_from_correlations', \n",
    "    color_discrete_map={'Negative Correlation': 'red', 'Positive Correlation': 'blue', 'No Correlation': 'grey'},  \n",
    "    hover_data=['Year', 'Country_x', 'Correlation'],  # Add 'Correlation' to tooltip\n",
    "     labels={'Count': 'GDP', 'Value': 'Mortality'},\n",
    "    title='GDP vs Mortality with Correlation Group'\n",
    ")\n",
    "\n",
    "GDP_vs_mortality.show()\n"
   ]
  },
  {
   "cell_type": "markdown",
   "id": "c24ee1e8-6792-45e2-8332-2849dd74811f",
   "metadata": {},
   "source": [
    "From the visual country loke south africa has a strong correlation between gdp with and mortality with r2  at -0.8..."
   ]
  },
  {
   "cell_type": "markdown",
   "id": "cd7fd2d5-f993-4b88-86af-c2b2c12e3926",
   "metadata": {},
   "source": [
    "## Joining All Dataframes"
   ]
  },
  {
   "cell_type": "code",
   "execution_count": null,
   "id": "d708ced0-2b36-4321-a74a-f3231a7976b9",
   "metadata": {},
   "outputs": [],
   "source": [
    "# Step 1: Filter the 'Medical_doctors' table for rows where 'Indicators' is 'Medical_doctors (per 10000)'\n",
    "filtered_medical_doctors = Medical_doctors[Medical_doctors['Indicator'] == 'Medical doctors (per 10,000)'] #representing access to Doctors as regards to Population\n",
    "filtered_medical_doctors = filtered_medical_doctors.rename(columns={'ThreeLocCode': 'Code', 'Period': 'Year'}) # Renaming columns for Uniformity\n",
    "\n",
    "df_merged = pd.merge(df4_africa, filtered_medical_doctors, \n",
    "                     on=['Code', 'Country'], how='inner')\n",
    "df_merged = pd.merge(df_merged, Percent_GDP, \n",
    "                     on=['Code', 'Year', 'Country'], how='inner')\n",
    "df_merged = pd.merge(df_merged, Mortality_cause , \n",
    "                     on=['Code', 'Year', 'Country'], how='inner')\n",
    "df_merged = pd.merge(df_merged, Mortality_age_group, \n",
    "                     on=['Code', 'Year', 'Country'], how='inner')\n",
    "df_merged = pd.merge(df_merged, World_Population, \n",
    "                     on=['Code', 'Year', 'Country'], how='inner')\n",
    "\n",
    "df_merged.head()"
   ]
  },
  {
   "cell_type": "markdown",
   "id": "734d00e2-ab11-496b-995b-c8b4c8f9e720",
   "metadata": {},
   "source": [
    "## Visualising Correlation Matrix "
   ]
  },
  {
   "cell_type": "code",
   "execution_count": null,
   "id": "d9847f90-b90c-40d6-9000-0aeeaf72fb91",
   "metadata": {},
   "outputs": [],
   "source": [
    "# Select the specific columns\n",
    "df_selected = df_merged[['FactValueNumeric', 'Count', 'Population (historical estimates)', 'Value_y']].copy()\n",
    "\n",
    "# Rename the columns\n",
    "df_selected = df_selected.rename(columns={\n",
    "    'FactValueNumeric': 'Healthcare access', \n",
    "    'Count': 'Percent_GDP', \n",
    "    'Population (historical estimates)': 'Population', \n",
    "    'Value_y': 'mortality count'\n",
    "})\n",
    "\n",
    "# Compute the correlation matrix\n",
    "correlation_matrix = df_selected.corr()\n",
    "\n",
    "plt.figure(figsize=(8, 6))\n",
    "sns.heatmap(correlation_matrix, annot=True, cmap='coolwarm', fmt='.2f', linewidths=0.5)\n",
    "plt.title('Correlation Matrix of Selected Variables')\n",
    "plt.show()"
   ]
  },
  {
   "cell_type": "markdown",
   "id": "9b9c7357-ee91-4226-a279-29533b8860ed",
   "metadata": {},
   "source": [
    "This matrix serves as a tool to identify key relationships that warrant further exploration using models or visualizations. For instance, the relationship between Population and Mortality (with a correlation coefficient of 0.46) may be a suitable candidate for K-means clustering, as it suggests a moderate positive association. This means that countries with larger populations tend to have higher mortality counts. The correlation coefficient indicates that about 46% of the variance in mortality can be attributed to population size. This suggests that population is a significant, but not sole, factor influencing mortality rates. The remaining variance may be driven by other factors such as healthcare access, GDP, or socioeconomic conditions, which could warrant further analysis through more complex models or visualizations."
   ]
  },
  {
   "cell_type": "markdown",
   "id": "6c96cc4f-275f-483b-935f-01ef6efb0efc",
   "metadata": {},
   "source": [
    "# Machine Learning Algorithm (k-Means)"
   ]
  },
  {
   "cell_type": "markdown",
   "id": "6f0ce3f2-679d-4adc-88f5-990c58128d68",
   "metadata": {},
   "source": [
    "K-means clustering is a powerful method for grouping data based on similarities. In this analysis, we used K-means clustering to categorize countries based on three different pairs of variables:\n",
    "\n",
    "* Population vs Mortality\n",
    "\n",
    "* GDP vs Mortality\n",
    "\n",
    "* Health Access vs Mortality\n",
    "\n",
    "I applied the Elbow Method for each pair of variables to determine the optimal number of clusters. This method involves plotting the Within-Cluster Sum of Squares (WCSS) against the number of clusters, \n",
    "𝑘\n",
    "k, and observing where the curve shows a sharp \"elbow.\""
   ]
  },
  {
   "cell_type": "markdown",
   "id": "627442eb-f7e2-424d-b619-59dce7d00c30",
   "metadata": {},
   "source": [
    "### 1. Clustering African Countries by Population and Mortality Rates"
   ]
  },
  {
   "cell_type": "markdown",
   "id": "8cba9080-2098-4858-b228-bef34a3f4761",
   "metadata": {},
   "source": [
    "#### Determining Optimum number of Clusters (Elbow Method)"
   ]
  },
  {
   "cell_type": "code",
   "execution_count": null,
   "id": "5b12bb5a-c190-47be-8e2e-1d7d7361fa5e",
   "metadata": {},
   "outputs": [],
   "source": [
    "# Select the features you want to use\n",
    "X = df_merged[['Population (historical estimates)', 'Value_y']].copy()\n",
    "\n",
    "# Rename 'Value_y' to 'Mortality'\n",
    "X = X.rename(columns={'Value_y': 'Mortality'})\n",
    "\n",
    "# Initialize an empty list to store WCSS values\n",
    "wcss = []\n",
    "\n",
    "# Try a range of k values (e.g., from 1 to 10 clusters)\n",
    "for k in range(1, 11):\n",
    "    kmeans = KMeans(n_clusters=k, init='k-means++', max_iter=300, n_init=10, random_state=42)\n",
    "    kmeans.fit(X)\n",
    "    wcss.append(kmeans.inertia_)  # Inertia is the WCSS\n",
    "\n",
    "# Plot WCSS vs. k\n",
    "plt.figure(figsize=(8, 6))\n",
    "plt.plot(range(1, 11), wcss, marker='o', linestyle='--', color='b')\n",
    "plt.title('Elbow Method For Optimal k')\n",
    "plt.xlabel('Number of clusters (k)')\n",
    "plt.ylabel('WCSS (Within-Cluster Sum of Squares)')\n",
    "plt.show()\n"
   ]
  },
  {
   "cell_type": "code",
   "execution_count": null,
   "id": "66050fef-c4e3-4cfd-9027-c3bb6e623728",
   "metadata": {},
   "outputs": [],
   "source": [
    "# KneeLocator is used to compute the point of inflection \n",
    "from kneed import KneeLocator\n",
    "kl = KneeLocator(range(1, 11),\n",
    "                  wcss,\n",
    "                 curve=\"convex\",\n",
    "                 direction=\"decreasing\")\n",
    "print('The optimum number of clusters is: ' + str(kl.elbow))"
   ]
  },
  {
   "cell_type": "code",
   "execution_count": null,
   "id": "64bfb5a0-279c-4bd7-99e4-d2481f62daf2",
   "metadata": {},
   "outputs": [],
   "source": [
    "# Fit the KMeans model with k=3\n",
    "kmeans = KMeans(n_clusters=3, init='k-means++', max_iter=300, n_init=10, random_state=42)\n",
    "kmeans.fit(X)\n",
    "\n",
    "# Add the cluster labels to your dataframe\n",
    "df_merged['Cluster'] = kmeans.labels_\n",
    "\n",
    "#check the cluster centers\n",
    "print(\"Cluster Centers:\")\n",
    "print(kmeans.cluster_centers_)\n"
   ]
  },
  {
   "cell_type": "code",
   "execution_count": null,
   "id": "7af1b2fb-0f0c-441c-8b79-6e08e25a4c37",
   "metadata": {},
   "outputs": [],
   "source": [
    "# Group by the cluster label and calculate mean for each feature in each cluster\n",
    "cluster_summary = df_merged.groupby('Cluster')[[ 'Population (historical estimates)', 'Value_y']].mean()\n",
    "\n",
    "cluster_summary #Value_y is the Mortality Count"
   ]
  },
  {
   "cell_type": "code",
   "execution_count": null,
   "id": "28e61d46-8fe0-43d7-8169-5a741da4aaaa",
   "metadata": {},
   "outputs": [],
   "source": [
    "# Assuming df_merged has 'Country' and 'Cluster' columns\n",
    "df_sunburst = df_merged[['Country', 'Cluster']].copy()  # Use .copy() to avoid potential issues\n",
    "\n",
    "# Convert cluster labels to more descriptive names (optional)\n",
    "cluster_labels = {\n",
    "    0: \"Low Population, Low Mortality\",\n",
    "    1: \"High Population, High Mortality\",\n",
    "    2: \"Low Population, Medium Mortality\"\n",
    "}\n",
    "\n",
    "# Apply cluster labels using .loc\n",
    "df_sunburst.loc[:, 'Cluster_Description'] = df_sunburst['Cluster'].map(cluster_labels)\n",
    "\n",
    "# Create a sunburst chart\n",
    "fig = px.sunburst(df_sunburst, \n",
    "                  path=['Cluster_Description', 'Country'], \n",
    "                  title='Country Clusters by Population and Mortality',\n",
    "                  color='Cluster',\n",
    "                  color_continuous_scale='Viridis')\n",
    "\n",
    "# Show the plot\n",
    "fig.show()\n"
   ]
  },
  {
   "cell_type": "markdown",
   "id": "1159afba-1274-4c07-9f19-ea885213dbe0",
   "metadata": {},
   "source": [
    "### 2. Clustering African Countries by Economic Strength and Mortality Rates"
   ]
  },
  {
   "cell_type": "markdown",
   "id": "04f15161-f3ae-4929-8584-213d6f85d51d",
   "metadata": {},
   "source": [
    "#### Determining Optimum number of Clusters (Elbow Method)"
   ]
  },
  {
   "cell_type": "code",
   "execution_count": null,
   "id": "e7dc340f-12bd-4d05-8672-8ece420ef993",
   "metadata": {},
   "outputs": [],
   "source": [
    "# Select the features you want to use\n",
    "X = df_merged[['Count', 'Value_y']].copy() #GDP and Mortality Column\n",
    "\n",
    "# Filling missing values with 0\n",
    "X.fillna(value=0, inplace=True)\n",
    "\n",
    "# Initialize an empty list to store WCSS values\n",
    "wcss = []\n",
    "\n",
    "# Try a range of k values (e.g., from 1 to 10 clusters)\n",
    "for k in range(1, 11):\n",
    "    kmeans = KMeans(n_clusters=k, init='k-means++', max_iter=300, n_init=10, random_state=42)\n",
    "    kmeans.fit(X)\n",
    "    wcss.append(kmeans.inertia_)  # Inertia is the WCSS\n",
    "\n",
    "# Plot WCSS vs. k\n",
    "plt.figure(figsize=(8, 6))\n",
    "plt.plot(range(1, 11), wcss, marker='o', linestyle='--', color='b')\n",
    "plt.title('Elbow Method For Optimal k')\n",
    "plt.xlabel('Number of clusters (k)')\n",
    "plt.ylabel('WCSS (Within-Cluster Sum of Squares)')\n",
    "plt.show()\n"
   ]
  },
  {
   "cell_type": "code",
   "execution_count": null,
   "id": "0b462d5e-387a-479f-ad28-57eed77cabd5",
   "metadata": {},
   "outputs": [],
   "source": [
    "k2 = KneeLocator(range(1, 11),\n",
    "                  wcss,\n",
    "                 curve=\"convex\",\n",
    "                 direction=\"decreasing\")\n",
    "print('The optimum number of clusters is: ' + str(kl.elbow))"
   ]
  },
  {
   "cell_type": "code",
   "execution_count": null,
   "id": "44ac63b6-29b1-437a-952e-0640073e08ef",
   "metadata": {},
   "outputs": [],
   "source": [
    "# Fit the KMeans model with k=3\n",
    "kmeans = KMeans(n_clusters=3, init='k-means++', max_iter=300, n_init=10, random_state=42)\n",
    "kmeans.fit(X)\n",
    "\n",
    "# Add the cluster labels to your dataframe\n",
    "df_merged['Cluster'] = kmeans.labels_\n",
    "\n",
    "#check the cluster centers\n",
    "print(\"Cluster Centers:\")\n",
    "print(kmeans.cluster_centers_)"
   ]
  },
  {
   "cell_type": "code",
   "execution_count": null,
   "id": "617614ad-cfd0-4e24-8830-bf9284f61a7a",
   "metadata": {},
   "outputs": [],
   "source": [
    "# Group by the cluster label and calculate mean for each feature in each cluster\n",
    "cluster_summary = df_merged.groupby('Cluster')[[ 'Count', 'Value_y']].mean()\n",
    "\n",
    "cluster_summary #Value_y is Mortality"
   ]
  },
  {
   "cell_type": "code",
   "execution_count": null,
   "id": "45b1b8f3-161e-47f4-a315-49fa24d333a3",
   "metadata": {},
   "outputs": [],
   "source": [
    "# Assuming df_merged has 'Country' and 'Cluster' columns\n",
    "df_sunburst = df_merged[['Country', 'Cluster']].copy() \n",
    "\n",
    "# Convert cluster labels to more descriptive names (optional)\n",
    "cluster_labels = {\n",
    "    0: \" High GDP, Low Mortality\",\n",
    "    1:  \"Medium GDP, Medium Mortality\",\n",
    "    2: \"Medium GDP, Very High Mortality\"\n",
    "}\n",
    "\n",
    "# Apply cluster labels using .loc\n",
    "df_sunburst.loc[:, 'Cluster_Description'] = df_sunburst['Cluster'].map(cluster_labels)\n",
    "\n",
    "# Create a sunburst chart\n",
    "import plotly.express as px\n",
    "fig = px.sunburst(df_sunburst, \n",
    "                  path=['Cluster_Description', 'Country'], \n",
    "                  title='Country Clusters by GDP and Mortality',\n",
    "                  color='Cluster',\n",
    "                  color_continuous_scale='Viridis')\n",
    "\n",
    "# Show the plot\n",
    "fig.show()"
   ]
  },
  {
   "cell_type": "markdown",
   "id": "dfcc83b7-79e7-4870-8e39-1b13cd7259f5",
   "metadata": {},
   "source": [
    "### 3. Clustering African Countries by Healthcare Access and Mortality Rates"
   ]
  },
  {
   "cell_type": "markdown",
   "id": "d8e0f25d-3ee5-4656-8bb6-f13ab474d643",
   "metadata": {},
   "source": [
    "#### Determining Optimum number of Clusters (Elbow Method)"
   ]
  },
  {
   "cell_type": "code",
   "execution_count": null,
   "id": "cadac00c-a598-4883-94d2-229ca7a6b33c",
   "metadata": {},
   "outputs": [],
   "source": [
    "# Select the features you want to use\n",
    "X = df_merged[['Value_x', 'Value_y']].copy() #Value_x is Healthcare Access in each country, Value_y is Mortality Count\n",
    "\n",
    "# Initialize an empty list to store WCSS values\n",
    "wcss = []\n",
    "\n",
    "# Try a range of k values (e.g., from 1 to 10 clusters)\n",
    "for k in range(1, 11):\n",
    "    kmeans = KMeans(n_clusters=k, init='k-means++', max_iter=300, n_init=10, random_state=42)\n",
    "    kmeans.fit(X)\n",
    "    wcss.append(kmeans.inertia_)  # Inertia is the WCSS\n",
    "\n",
    "# Plot WCSS vs. k\n",
    "plt.figure(figsize=(8, 6))\n",
    "plt.plot(range(1, 11), wcss, marker='o', linestyle='--', color='b')\n",
    "plt.title('Elbow Method For Optimal k')\n",
    "plt.xlabel('Number of clusters (k)')\n",
    "plt.ylabel('WCSS (Within-Cluster Sum of Squares)')\n",
    "plt.show()\n"
   ]
  },
  {
   "cell_type": "code",
   "execution_count": null,
   "id": "82fd2e3a-6414-4937-af39-992feaab2cdf",
   "metadata": {},
   "outputs": [],
   "source": [
    "k3 = KneeLocator(range(1, 11),\n",
    "                  wcss,\n",
    "                 curve=\"convex\",\n",
    "                 direction=\"decreasing\")\n",
    "print('The optimum number of clusters is: ' + str(kl.elbow))"
   ]
  },
  {
   "cell_type": "code",
   "execution_count": null,
   "id": "8c267679-40fc-4974-936b-801e0ad243c7",
   "metadata": {},
   "outputs": [],
   "source": [
    "# Fit the KMeans model with k=3\n",
    "kmeans = KMeans(n_clusters=3, init='k-means++', max_iter=300, n_init=10, random_state=42)\n",
    "kmeans.fit(X)\n",
    "\n",
    "# Add the cluster labels to your dataframe\n",
    "df_merged['Cluster'] = kmeans.labels_\n",
    "\n",
    "#check the cluster centers\n",
    "print(\"Cluster Centers:\")\n",
    "print(kmeans.cluster_centers_)"
   ]
  },
  {
   "cell_type": "code",
   "execution_count": null,
   "id": "f247d6f9-6232-40b3-b413-1ff3cba4950d",
   "metadata": {},
   "outputs": [],
   "source": [
    "# Group by the cluster label and calculate mean for each feature in each cluster\n",
    "cluster_summary = df_merged.groupby('Cluster')[[ 'Value_x', 'Value_y']].mean()\n",
    "\n",
    "cluster_summary"
   ]
  },
  {
   "cell_type": "code",
   "execution_count": null,
   "id": "8cb30e67-edcc-4a64-a2a6-cf7d7f8ea876",
   "metadata": {},
   "outputs": [],
   "source": [
    "# Assuming df_merged has 'Country' and 'Cluster' columns\n",
    "df_sunburst = df_merged[['Country', 'Cluster']].copy() \n",
    "\n",
    "# Convert cluster labels to more descriptive names (optional)\n",
    "cluster_labels = {\n",
    "    0: \" Medium access, Low Mortality\",\n",
    "    1:  \"Low access, Medium Mortality\",\n",
    "    2: \"Medium Access, Very High Mortality\"\n",
    "}\n",
    "\n",
    "# Apply cluster labels using .loc\n",
    "df_sunburst.loc[:, 'Cluster_Description'] = df_sunburst['Cluster'].map(cluster_labels)\n",
    "\n",
    "# Create a sunburst chart\n",
    "import plotly.express as px\n",
    "fig = px.sunburst(df_sunburst, \n",
    "                  path=['Cluster_Description', 'Country'], \n",
    "                  title='Country Clusters by Medical Access and Mortality',\n",
    "                  color='Cluster',\n",
    "                  color_continuous_scale='Viridis')\n",
    "\n",
    "# Show the plot\n",
    "fig.show()"
   ]
  }
 ],
 "metadata": {
  "kernelspec": {
   "display_name": "Python 3 (ipykernel)",
   "language": "python",
   "name": "python3"
  },
  "language_info": {
   "codemirror_mode": {
    "name": "ipython",
    "version": 3
   },
   "file_extension": ".py",
   "mimetype": "text/x-python",
   "name": "python",
   "nbconvert_exporter": "python",
   "pygments_lexer": "ipython3",
   "version": "3.11.2"
  }
 },
 "nbformat": 4,
 "nbformat_minor": 5
}
